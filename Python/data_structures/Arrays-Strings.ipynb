{
 "cells": [
  {
   "cell_type": "code",
   "execution_count": 107,
   "metadata": {},
   "outputs": [],
   "source": [
    "import numpy as np\n",
    "from typing import List"
   ]
  },
  {
   "cell_type": "markdown",
   "metadata": {},
   "source": [
    "### Problems on Arrays and Strings"
   ]
  },
  {
   "cell_type": "markdown",
   "metadata": {},
   "source": [
    "##### P1. **Is Unique**: Implement an algorithm to determine if a string has all unique characters. What if you cannot use additional data structures?"
   ]
  },
  {
   "cell_type": "code",
   "execution_count": 5,
   "metadata": {},
   "outputs": [],
   "source": [
    "# With Hashmap.\n",
    "# Time Complexity: O(n)\n",
    "def if_unique(string):\n",
    "    chr_dict = {}\n",
    "    for char in string:\n",
    "        if char not in chr_dict:\n",
    "            chr_dict[char] = 1\n",
    "        else:\n",
    "            return False\n",
    "    \n",
    "    return True\n",
    "\n",
    "# Without additional memory.\n",
    "# Time Complexity: O(n^2)\n",
    "def if_unique_m(string):\n",
    "    for idx, char in enumerate(string):\n",
    "        for j in range(idx + 1, len(string)):\n",
    "            if char == string[j]:\n",
    "                return False\n",
    "    \n",
    "    return True"
   ]
  },
  {
   "cell_type": "code",
   "execution_count": 7,
   "metadata": {},
   "outputs": [
    {
     "name": "stdout",
     "output_type": "stream",
     "text": [
      "True True\n",
      "False False\n",
      "False False\n",
      "True True\n",
      "True True\n"
     ]
    }
   ],
   "source": [
    "# Test cases.\n",
    "print(if_unique(\"1234\"), if_unique_m(\"1234\"))\n",
    "print(if_unique(\"12344\"), if_unique_m(\"12344\"))\n",
    "print(if_unique(\"1214\"), if_unique_m(\"1214\"))\n",
    "print(if_unique(\"1\"), if_unique_m(\"1\"))\n",
    "print(if_unique(\"\"), if_unique_m(\"\"))"
   ]
  },
  {
   "cell_type": "markdown",
   "metadata": {},
   "source": [
    "##### P2. **Check Permutation**: Given two strings, write a method to decide if one is the permutation of the other."
   ]
  },
  {
   "cell_type": "code",
   "execution_count": 8,
   "metadata": {},
   "outputs": [],
   "source": [
    "# Using a hashmap.\n",
    "# Checking if str1 is a permutation of str2.\n",
    "# Assumptions: The strings can have repeated characters.\n",
    "# Time Complexity: O(n)\n",
    "def if_permute(str1, str2):\n",
    "    if len(str1) != len(str2):\n",
    "        return False\n",
    "    \n",
    "    def get_chr_dict(string):\n",
    "        chr_dict = {}\n",
    "        for char in string:\n",
    "            if char not in chr_dict:\n",
    "                chr_dict[char] = 1\n",
    "            else:\n",
    "                chr_dict[char] += 1\n",
    "        return chr_dict\n",
    "    \n",
    "    str1_d = get_chr_dict(str1) # String 1.\n",
    "    str2_d = get_chr_dict(str2) # String 2.\n",
    "    \n",
    "    # Compare dictionaries.\n",
    "    for char in str1_d:\n",
    "        if char not in str2_d or str2_d[char] != str1_d[char]:\n",
    "            return False\n",
    "    \n",
    "    return True"
   ]
  },
  {
   "cell_type": "code",
   "execution_count": 12,
   "metadata": {},
   "outputs": [
    {
     "name": "stdout",
     "output_type": "stream",
     "text": [
      "True\n",
      "True\n",
      "True\n",
      "True\n",
      "True\n",
      "False\n"
     ]
    }
   ],
   "source": [
    "# Test Cases\n",
    "print(if_permute(\"\", \"\"))\n",
    "print(if_permute(\"abc\", \"abc\"))\n",
    "print(if_permute(\"abbc\", \"abbc\"))\n",
    "print(if_permute(\"abcc\", \"abcc\"))\n",
    "print(if_permute(\"aaa\", \"aaa\"))\n",
    "print(if_permute(\"aaad\", \"aaac\"))"
   ]
  },
  {
   "cell_type": "markdown",
   "metadata": {},
   "source": [
    "##### P3. **URLify**: Write a method to replace all spaces in a string with '%20'. You may assume that the string has sufficient space at the end to hold the additional characters, and that you are given the \"true\" length of the string."
   ]
  },
  {
   "cell_type": "code",
   "execution_count": 20,
   "metadata": {},
   "outputs": [],
   "source": [
    "# Replace spaces with %20 characters.\n",
    "# Time Complexity: O(n)\n",
    "def replace_space(string):\n",
    "    parts = string.split(\" \")\n",
    "    url = \"\"\n",
    "    for p in parts:\n",
    "        if p != \"\":\n",
    "            url += p + \"%20\"\n",
    "    \n",
    "    return url[:-3]"
   ]
  },
  {
   "cell_type": "code",
   "execution_count": 23,
   "metadata": {},
   "outputs": [
    {
     "name": "stdout",
     "output_type": "stream",
     "text": [
      "Mr%20John%20Smith\n",
      "\n",
      "John%20Smith\n"
     ]
    }
   ],
   "source": [
    "print(replace_space(\"Mr John Smith   \"))\n",
    "print(replace_space(\"\"))\n",
    "print(replace_space(\" John Smith\"))"
   ]
  },
  {
   "cell_type": "markdown",
   "metadata": {},
   "source": [
    "##### P4. **Palindrome Permutation**: Given a string, write a function to check if it is a permutation of a palindrome. A palindrome is a word or phrase that is the same forwards and backwards. A permutation is a rearrangement of letters. The palidrome does not need to be limited to just dictionary words."
   ]
  },
  {
   "cell_type": "code",
   "execution_count": 35,
   "metadata": {},
   "outputs": [],
   "source": [
    "# Build dictionary of all characters in the string and check if all even.\n",
    "def check_palin_permute(string):\n",
    "    c_dict = {}\n",
    "    for char in string:\n",
    "        if char is not \" \":\n",
    "            if char in c_dict:\n",
    "                c_dict[char] += 1\n",
    "            else:\n",
    "                c_dict[char] = 1\n",
    "    \n",
    "    num_1 = 0\n",
    "    for char in c_dict:\n",
    "        if c_dict[char]%2 == 1:\n",
    "            num_1 += 1\n",
    "    \n",
    "    if num_1 > 1:\n",
    "        return False\n",
    "\n",
    "    return True"
   ]
  },
  {
   "cell_type": "code",
   "execution_count": 36,
   "metadata": {},
   "outputs": [
    {
     "name": "stdout",
     "output_type": "stream",
     "text": [
      "True\n"
     ]
    }
   ],
   "source": [
    "print(check_palin_permute(\"tact coa\"))"
   ]
  },
  {
   "cell_type": "markdown",
   "metadata": {},
   "source": [
    "##### P5. **One Away**: There are three types of edits that can be performed on strings: insert a character, remove a character or replace a character. Given two strings, write a function to check if they are one edit (or zero edits) away."
   ]
  },
  {
   "cell_type": "code",
   "execution_count": 64,
   "metadata": {},
   "outputs": [],
   "source": [
    "# Check the length of the strings to find which operation needs to be performed i.e. insert, delete or replace.\n",
    "# Time Complexity: O(n)\n",
    "def edit_distance(str1, str2) -> bool:\n",
    "    if abs(len(str1) - len(str2)) > 1:\n",
    "        return False\n",
    "    \n",
    "    i = 0; j = 0; edits = 0\n",
    "    while(i < len(str1) and j < len(str2)):\n",
    "        if str1[i] != str2[j]: # Either replace or move.\n",
    "            edits += 1\n",
    "            if len(str1) > len(str2):\n",
    "                j += 1\n",
    "            elif len(str1) < len(str2):\n",
    "                i += 1\n",
    "                \n",
    "        i += 1; j += 1\n",
    "            \n",
    "    if edits > 1:\n",
    "        return False\n",
    "\n",
    "    return True"
   ]
  },
  {
   "cell_type": "code",
   "execution_count": 65,
   "metadata": {},
   "outputs": [
    {
     "name": "stdout",
     "output_type": "stream",
     "text": [
      "True\n",
      "False\n",
      "True\n",
      "True\n",
      "False\n"
     ]
    }
   ],
   "source": [
    "print(edit_distance(\"pale\", \"ple\"))\n",
    "print(edit_distance(\"pale\", \"bake\"))\n",
    "print(edit_distance(\"pales\", \"pale\"))\n",
    "print(edit_distance(\"pale\", \"bale\"))\n",
    "print(edit_distance(\"pales\", \"bale\"))"
   ]
  },
  {
   "cell_type": "markdown",
   "metadata": {},
   "source": [
    "##### P6. **String Compression**: Implement a method to perform basic string compression using the counts of repeated characters. For example, the string \"aabcccccaaa\" would become a2b1c5a3. If the \"compressed\" string would not become smaller than the original string, your method should return the original string. You can assume the string has only uppercase and lowercase letters (a-z)"
   ]
  },
  {
   "cell_type": "code",
   "execution_count": 79,
   "metadata": {},
   "outputs": [],
   "source": [
    "# Perform running compression on a string.\n",
    "# Time Complexity: O(n)\n",
    "def compress(string: str) -> str:\n",
    "    com_str = \"\"\n",
    "    count = 0\n",
    "    for i in range(0, len(string) - 1):\n",
    "        if string[i] == string[i+1]:\n",
    "            count += 1\n",
    "        else:\n",
    "            com_str += string[i] + str(count + 1)\n",
    "            count = 0 # Reset count.\n",
    "    \n",
    "    # Edge case for last character.\n",
    "    if string[i] == string[i+1]:\n",
    "        com_str += string[i] + str(count + 1)\n",
    "    else:\n",
    "        com_str += string[i+1] + str(1)\n",
    "    \n",
    "    if len(com_str) > len(string):\n",
    "        return string\n",
    "    \n",
    "    return com_str"
   ]
  },
  {
   "cell_type": "code",
   "execution_count": 89,
   "metadata": {},
   "outputs": [
    {
     "name": "stdout",
     "output_type": "stream",
     "text": [
      "a2b3c1d1e1f1g1F9c1\n",
      "a2b3c1d1e1f1g1F9\n",
      "aabbbcdefgFFFF\n"
     ]
    }
   ],
   "source": [
    "print(compress(\"aabbbcdefgFFFFFFFFFc\"))\n",
    "print(compress(\"aabbbcdefgFFFFFFFFF\"))\n",
    "print(compress(\"aabbbcdefgFFFF\"))"
   ]
  },
  {
   "cell_type": "markdown",
   "metadata": {},
   "source": [
    "##### P7. **Rotate Matrix**: Given an image represented by an NxN matrix, where each pixel in the imgae is 4 bytes, write a method to rotate the image by 90 degrees. Can you do this in place?"
   ]
  },
  {
   "cell_type": "code",
   "execution_count": 105,
   "metadata": {},
   "outputs": [],
   "source": [
    "# Rotate a Matrix in-place.\n",
    "# Given: The matrix is a square matrix.\n",
    "# Time Complexity: O(n^2)\n",
    "# Space Complexity: n^2\n",
    "Matrix = List[List[int]]\n",
    "def rotate_matrix(mat: Matrix) -> Matrix:\n",
    "    mat_size = (len(mat), len(mat[0]))\n",
    "    \n",
    "    # Create Matrix of equal size.\n",
    "    rot = [[] for i in range(0 , mat_size[0])]\n",
    "    for i in range(mat_size[0] - 1, -1, -1):\n",
    "        for j in range(0, mat_size[1]):\n",
    "            rot[j].append(mat[i][j])\n",
    "            \n",
    "    return rot\n"
   ]
  },
  {
   "cell_type": "code",
   "execution_count": 106,
   "metadata": {},
   "outputs": [
    {
     "data": {
      "text/plain": [
       "[[6, 3, 0], [7, 4, 1], [8, 5, 2]]"
      ]
     },
     "execution_count": 106,
     "metadata": {},
     "output_type": "execute_result"
    }
   ],
   "source": [
    "rotate_matrix([[0, 1, 2], [3, 4, 5], [6, 7, 8]])\n",
    "# print(swap(2, 3))"
   ]
  },
  {
   "cell_type": "markdown",
   "metadata": {},
   "source": [
    "##### P8. **Zero Matrix**: Write an algorithm such that if an element in an NxN matrix is 0, its entire row and column are set to 0."
   ]
  },
  {
   "cell_type": "code",
   "execution_count": 110,
   "metadata": {},
   "outputs": [],
   "source": [
    "# NOTE: This problem is flawed because by making an entire row and column 0, the entire matrix will become zero.\n",
    "# Make a zero matrix from a given matrix.\n",
    "# Time complexity: O(n^3)\n",
    "Matrix = List[List[int]]\n",
    "def zero_matrix(mat: Matrix) -> Matrix:\n",
    "    zero_c = {}\n",
    "    zero_r = {}\n",
    "    mat_size = (len(mat), len(mat[0]))\n",
    "    for i in range(0, mat_size[0]):\n",
    "        for j in range(0, mat_size[1]):\n",
    "            if mat[i][j] == 0 and i not in zero_r and j not in zero_c:\n",
    "                for k in range(0, mat_size[0]):\n",
    "                    mat[k][j] = 0\n",
    "                for k in range(0, mat_size[1]):\n",
    "                    mat[i][k] = 0\n",
    "                \n",
    "                zero_r[k] = 1\n",
    "                zero_c[k] = 1\n",
    "    \n",
    "    return mat"
   ]
  },
  {
   "cell_type": "code",
   "execution_count": 111,
   "metadata": {},
   "outputs": [
    {
     "name": "stdout",
     "output_type": "stream",
     "text": [
      "[[0, 0, 0], [0, 0, 0], [0, 0, 8]]\n"
     ]
    }
   ],
   "source": [
    "print(zero_matrix([[0, 1, 2], [3, 4, 5], [6, 7, 8]]))"
   ]
  }
 ],
 "metadata": {
  "kernelspec": {
   "display_name": "Python 3",
   "language": "python",
   "name": "python3"
  },
  "language_info": {
   "codemirror_mode": {
    "name": "ipython",
    "version": 3
   },
   "file_extension": ".py",
   "mimetype": "text/x-python",
   "name": "python",
   "nbconvert_exporter": "python",
   "pygments_lexer": "ipython3",
   "version": "3.6.10"
  }
 },
 "nbformat": 4,
 "nbformat_minor": 4
}
