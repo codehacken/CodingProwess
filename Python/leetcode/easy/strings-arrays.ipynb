{
 "cells": [
  {
   "cell_type": "markdown",
   "metadata": {},
   "source": [
    "### String Problems\n",
    "##### https://leetcode.com/explore/challenge/card/30-day-leetcoding-challenge/528/week-1/3283/"
   ]
  },
  {
   "cell_type": "markdown",
   "metadata": {},
   "source": [
    "##### Q.1. Given a non-empty array of integers, every element appears twice except for one. Find that single one."
   ]
  },
  {
   "cell_type": "code",
   "execution_count": 1,
   "metadata": {},
   "outputs": [],
   "source": [
    "from typing import List"
   ]
  },
  {
   "cell_type": "code",
   "execution_count": 15,
   "metadata": {},
   "outputs": [],
   "source": [
    "\"\"\"\n",
    "For O(1) space complexity use math operation or XOR.\n",
    "a^a = 0\n",
    "a^0 = a\n",
    "a^b^c = a^a^b = 0^b = b\n",
    "\"\"\"\n",
    "class Solution(object):\n",
    "    def singleNumber(self, nums: List[int]) -> int:\n",
    "        \"\"\"\n",
    "        :type nums: List[int]\n",
    "        :rtype: int\n",
    "        \"\"\"\n",
    "        idx = {}\n",
    "        for i in range(len(nums)):\n",
    "            if nums[i] not in idx:\n",
    "                idx[nums[i]] = 1\n",
    "            else:\n",
    "                idx[nums[i]] += 1\n",
    "        \n",
    "        for k in idx.keys():\n",
    "            if idx[k] == 1:\n",
    "                return k"
   ]
  },
  {
   "cell_type": "code",
   "execution_count": 16,
   "metadata": {},
   "outputs": [
    {
     "name": "stdout",
     "output_type": "stream",
     "text": [
      "4\n"
     ]
    }
   ],
   "source": [
    "print(Solution().singleNumber([4,1,2,1,2]))"
   ]
  },
  {
   "cell_type": "markdown",
   "metadata": {},
   "source": [
    "##### Q.2. Write an algorithm to determine if a number n is \"happy\".\n",
    "\n",
    "##### A happy number is a number defined by the following process: Starting with any positive integer, replace the number by the sum of the squares of its digits, and repeat the process until the number equals 1 (where it will stay), or it loops endlessly in a cycle which does not include 1. Those numbers for which this process ends in 1 are happy numbers.\n",
    "\n",
    "##### Return True if n is a happy number, and False if not."
   ]
  },
  {
   "cell_type": "code",
   "execution_count": 32,
   "metadata": {},
   "outputs": [],
   "source": [
    "class Solution(object):\n",
    "    def ifHappy(self, n: int) -> bool:\n",
    "        \"\"\"\n",
    "        :type n: int\n",
    "        :rtype: bool\n",
    "        \"\"\"\n",
    "        l = 0\n",
    "        while (n != 1):\n",
    "            add = 0\n",
    "            for i in str(n):\n",
    "                add += int(i) ** 2\n",
    "            n = add\n",
    "            l += 1\n",
    "            if l > 100:\n",
    "                return False\n",
    "        return True"
   ]
  },
  {
   "cell_type": "code",
   "execution_count": 33,
   "metadata": {},
   "outputs": [
    {
     "name": "stdout",
     "output_type": "stream",
     "text": [
      "True\n"
     ]
    }
   ],
   "source": [
    "print(Solution().ifHappy(19))"
   ]
  },
  {
   "cell_type": "markdown",
   "metadata": {},
   "source": [
    "#### Q.3. Given an integer array nums, find the contiguous subarray (containing at least one number) which has the largest sum and return its sum."
   ]
  },
  {
   "cell_type": "code",
   "execution_count": 36,
   "metadata": {},
   "outputs": [],
   "source": [
    "class Solution(object):\n",
    "    def maxSubArray(self, nums: List[int]) -> int:\n",
    "        \"\"\"\n",
    "        :type nums: List[int]\n",
    "        :rtype int\n",
    "        \"\"\"\n",
    "        # Special case is when all values in num are negative.\n",
    "        if max(nums) < 0:\n",
    "            return max(nums)\n",
    "        \n",
    "        max_sum = 0; curr = 0\n",
    "        for i in range(len(nums)):            \n",
    "            if curr + nums[i] > 0:\n",
    "                curr = curr + nums[i]\n",
    "            else:\n",
    "                curr = 0 # Reset the sum.\n",
    "            \n",
    "            if curr > max_sum:\n",
    "                max_sum = curr\n",
    "        \n",
    "        return max_sum\n",
    "                "
   ]
  },
  {
   "cell_type": "code",
   "execution_count": 37,
   "metadata": {},
   "outputs": [
    {
     "name": "stdout",
     "output_type": "stream",
     "text": [
      "6\n"
     ]
    }
   ],
   "source": [
    "print(Solution().maxSubArray([-2,1,-3,4,-1,2,1,-5,4]))"
   ]
  },
  {
   "cell_type": "markdown",
   "metadata": {},
   "source": [
    "#### Q.4. Given an array nums, write a function to move all 0's to the end of it while maintaining the relative order of the non-zero elements."
   ]
  },
  {
   "cell_type": "code",
   "execution_count": 58,
   "metadata": {},
   "outputs": [],
   "source": [
    "class Solution(object):\n",
    "    def moveZeroes(self, nums: List[int]) -> None:\n",
    "        \"\"\"\n",
    "        :type nums: List[int]\n",
    "        :rtype None\n",
    "        Perform inplace ordering.\n",
    "        \n",
    "        Method: Apply a form of insert sort that moves each non-negative value\n",
    "                to its right place in the list.\n",
    "        \"\"\"\n",
    "        for i in range(len(nums)):\n",
    "            if nums[i] != 0:\n",
    "                j = i\n",
    "                while j > 0 and nums[j - 1] == 0:\n",
    "                    nums[j], nums[j-1] = nums[j-1], nums[j]\n",
    "                    j -= 1"
   ]
  },
  {
   "cell_type": "code",
   "execution_count": 60,
   "metadata": {},
   "outputs": [
    {
     "name": "stdout",
     "output_type": "stream",
     "text": [
      "[1, 3, 12, 0, 0]\n"
     ]
    }
   ],
   "source": [
    "nums = [0,1,0,3,12]\n",
    "Solution().moveZeroes(nums)\n",
    "print(nums)"
   ]
  },
  {
   "cell_type": "markdown",
   "metadata": {},
   "source": [
    "#### Q.5. Say you have an array prices for which the ith element is the price of a given stock on day i. Design an algorithm to find the maximum profit. You may complete as many transactions as you like (i.e., buy one and sell one share of the stock multiple times).\n",
    "##### Note: You may not engage in multiple transactions at the same time (i.e., you must sell the stock before you buy again)."
   ]
  },
  {
   "cell_type": "code",
   "execution_count": 71,
   "metadata": {},
   "outputs": [],
   "source": [
    "class Solution(object):\n",
    "    def maxProfit(self, prices: List[int]) -> int:\n",
    "        \"\"\"\n",
    "        :type prices: List[int]\n",
    "        :rtype: int\n",
    "        \n",
    "        Maximum Profit is the cumulation of all positive differences.\n",
    "        \"\"\"\n",
    "        profit = 0\n",
    "        for i in range(1, len(prices)):\n",
    "            diff = prices[i] - prices[i-1]\n",
    "            if diff > 0:\n",
    "                profit += diff\n",
    "        \n",
    "        return profit"
   ]
  },
  {
   "cell_type": "code",
   "execution_count": 74,
   "metadata": {},
   "outputs": [
    {
     "name": "stdout",
     "output_type": "stream",
     "text": [
      "0\n"
     ]
    }
   ],
   "source": [
    "print(Solution().maxProfit([7,6,4,3,1]))"
   ]
  },
  {
   "cell_type": "markdown",
   "metadata": {},
   "source": [
    "#### Q.6. Given an array of strings, group anagrams together."
   ]
  },
  {
   "cell_type": "code",
   "execution_count": 79,
   "metadata": {},
   "outputs": [],
   "source": [
    "class Solution(object):\n",
    "    def groupAnagrams(self, strs: List[str]) -> List[List[str]]:\n",
    "        \"\"\"\n",
    "        :type strs: List[str]\n",
    "        :rtype: List[List[str]]\n",
    "        \n",
    "        Method: Build a dictionary of words creating a bag of characters representation.\n",
    "                Generate a has for that representation and add words with a similar hash.\n",
    "        \"\"\"\n",
    "        words = {}\n",
    "        \n",
    "        # Build a dictionary of words.\n",
    "        for word in strs:\n",
    "            boc_vec = [0 for i in range(26)]\n",
    "            for char in word:\n",
    "                boc_vec[ord(char) - 97] += 1\n",
    "\n",
    "            # Check if the representation if present in the dict.\n",
    "            hval = hash(tuple(boc_vec))\n",
    "            if hval not in words:\n",
    "                words[hval] = [word]\n",
    "            else:\n",
    "                words[hval].append(word)\n",
    "        \n",
    "        # Once, the dictionary is built, generate list.\n",
    "        fin = []\n",
    "        for key in words.keys():\n",
    "            fin.append(words[key])\n",
    "        \n",
    "        return fin\n",
    "        "
   ]
  },
  {
   "cell_type": "code",
   "execution_count": 80,
   "metadata": {},
   "outputs": [
    {
     "name": "stdout",
     "output_type": "stream",
     "text": [
      "[['eat', 'tea', 'ate'], ['tan', 'nat'], ['bat']]\n"
     ]
    }
   ],
   "source": [
    "print(Solution().groupAnagrams([\"eat\", \"tea\", \"tan\", \"ate\", \"nat\", \"bat\"]))"
   ]
  },
  {
   "cell_type": "markdown",
   "metadata": {},
   "source": [
    "#### Q.7. Given an integer array arr, count how many elements x there are, such that x + 1 is also in arr. If there're duplicates in arr, count them seperately."
   ]
  },
  {
   "cell_type": "code",
   "execution_count": 82,
   "metadata": {},
   "outputs": [],
   "source": [
    "class Solution(object):\n",
    "    def countElements(self, arr: List[int]) -> int:\n",
    "        \"\"\"\n",
    "        :type arr: List[int]\n",
    "        :rtype: int\n",
    "        \n",
    "        Method: Build a dictionary of all numbers in the list and then separately\n",
    "                verify if (n+1) number exists in the dictionary for every n.\n",
    "        \"\"\"\n",
    "        nums = {}\n",
    "        for n in arr:\n",
    "            if n not in nums:\n",
    "                nums[n] = 1\n",
    "        \n",
    "        cnt = 0\n",
    "        for n in arr:\n",
    "            if n+1 in nums:\n",
    "                cnt += 1\n",
    "        \n",
    "        return cnt"
   ]
  },
  {
   "cell_type": "code",
   "execution_count": 85,
   "metadata": {},
   "outputs": [
    {
     "name": "stdout",
     "output_type": "stream",
     "text": [
      "3\n"
     ]
    }
   ],
   "source": [
    "print(Solution().countElements([1,3,2,3,5,0]))"
   ]
  },
  {
   "cell_type": "code",
   "execution_count": null,
   "metadata": {},
   "outputs": [],
   "source": [
    "        if root.left is None and root.right is None:\n",
    "            return 0\n",
    "        \n",
    "        def get_longest_path(root):\n",
    "            if root.left is None and root.right is None:\n",
    "                return 0\n",
    "            elif root.left is None:\n",
    "                return 1 + get_longest_path(root.right)\n",
    "            elif root.right is None:\n",
    "                return 1 + get_longest_path(root.left)\n",
    "            else:\n",
    "                return max(1 + get_longest_path(root.left), 1 + get_longest_path(root.right))\n",
    "        \n",
    "        return get_longest_path(root.left) + get_longest_path(root.right)\n"
   ]
  }
 ],
 "metadata": {
  "kernelspec": {
   "display_name": "Python 3",
   "language": "python",
   "name": "python3"
  },
  "language_info": {
   "codemirror_mode": {
    "name": "ipython",
    "version": 3
   },
   "file_extension": ".py",
   "mimetype": "text/x-python",
   "name": "python",
   "nbconvert_exporter": "python",
   "pygments_lexer": "ipython3",
   "version": "3.6.10"
  }
 },
 "nbformat": 4,
 "nbformat_minor": 4
}
