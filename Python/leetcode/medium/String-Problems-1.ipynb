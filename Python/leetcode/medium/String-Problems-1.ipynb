{
 "cells": [
  {
   "cell_type": "code",
   "execution_count": 1,
   "metadata": {},
   "outputs": [],
   "source": [
    "import numpy as np\n",
    "from typing import List"
   ]
  },
  {
   "cell_type": "markdown",
   "metadata": {},
   "source": [
    "##### P1. **Encode and Decode Strings**\n",
    "Design an algorithm to encode a list of strings to a string. The encoded string is then sent over the network and is decoded back to the original list of strings.\n",
    "\n",
    "Machine 1 (sender) has the function:\n",
    "```\n",
    "string encode(vector<string> strs) {\n",
    "  // ... your code\n",
    "  return encoded_string;\n",
    "}\n",
    "```\n",
    "Machine 2 (receiver) has the function:\n",
    "```\n",
    "vector<string> decode(string s) {\n",
    "  //... your code\n",
    "  return strs;\n",
    "}\n",
    "```\n",
    "So Machine 1 does:\n",
    "```\n",
    "string encoded_string = encode(strs);\n",
    "```\n",
    "and Machine 2 does:\n",
    "```\n",
    "vector<string> strs2 = decode(encoded_string);\n",
    "```\n",
    "strs2 in Machine 2 should be the same as strs in Machine 1.\n",
    "\n",
    "Implement the encode and decode methods.\n",
    "\n",
    "Note:\n",
    "\n",
    "The string may contain any possible characters out of 256 valid ascii characters. Your algorithm should be generalized enough to work on any possible characters.\n",
    "Do not use class member/global/static variables to store states. Your encode and decode algorithms should be stateless.\n",
    "Do not rely on any library method such as eval or serialize methods. You should implement your own encode/decode algorithm."
   ]
  },
  {
   "cell_type": "code",
   "execution_count": 7,
   "metadata": {},
   "outputs": [
    {
     "data": {
      "text/plain": [
       "['Hello', 'World']"
      ]
     },
     "execution_count": 7,
     "metadata": {},
     "output_type": "execute_result"
    }
   ],
   "source": [
    "# NOTE: We assume <EOS> is a special token that shows that the string has ended\n",
    "#       and the next string has started.\n",
    "class Codec:\n",
    "\n",
    "    def encode(self, strs):\n",
    "        \"\"\"Encodes a list of strings to a single string.\n",
    "        \n",
    "        :type strs: List[str]\n",
    "        :rtype: str\n",
    "        \"\"\"\n",
    "        if strs == []:\n",
    "            return None\n",
    "        \n",
    "        return '<EOS>'.join(strs)\n",
    "\n",
    "    def decode(self, s):\n",
    "        \"\"\"Decodes a single string to a list of strings.\n",
    "        \n",
    "        :type s: str\n",
    "        :rtype: List[str]\n",
    "        \"\"\"\n",
    "        if s == None:\n",
    "            return []\n",
    "        elif s == '':\n",
    "            return [\"\"]\n",
    "        \n",
    "        return s.split(\"<EOS>\")\n",
    "\n",
    "# Your Codec object will be instantiated and called as such:\n",
    "strs = [\"Hello\", \"World\"]\n",
    "codec = Codec()\n",
    "codec.decode(codec.encode(strs))"
   ]
  },
  {
   "cell_type": "markdown",
   "metadata": {},
   "source": [
    "##### P2. **Maximal Square** Given a 2D binary matrix filled with 0's and 1's, find the largest square containing only 1's and return its area.\n",
    "\n",
    "```\n",
    "Example:\n",
    "\n",
    "Input: \n",
    "\n",
    "1 0 1 0 0\n",
    "1 0 1 1 1\n",
    "1 1 1 1 1\n",
    "1 0 0 1 0\n",
    "\n",
    "Output: 4\n",
    "```"
   ]
  },
  {
   "cell_type": "code",
   "execution_count": 44,
   "metadata": {},
   "outputs": [],
   "source": [
    "def find_largest_square(matrix) -> int:\n",
    "    if matrix == []:\n",
    "        return 0\n",
    "    \n",
    "    size = (len(matrix), len(matrix[0]))\n",
    "    max_sq_size = size[0] if size[0] < size[1] else size[1]\n",
    "    \n",
    "    def get_square_size(pos):\n",
    "        sq_size = 1\n",
    "        while sq_size <= max_sq_size and (pos[0] + sq_size) <= size[0] and (pos[1] + sq_size) <= size[1]:\n",
    "            for i in range(pos[0], pos[0] + sq_size):\n",
    "                for j in range(pos[1], pos[1] + sq_size):\n",
    "                    if matrix[i][j] == \"0\":\n",
    "                        return (sq_size - 1) * (sq_size - 1)\n",
    "            \n",
    "            sq_size += 1\n",
    "        \n",
    "        return (sq_size - 1) * (sq_size - 1)\n",
    "    \n",
    "    max_size = 0\n",
    "    for i in range(0, size[0]):\n",
    "        for j in range(0, size[1]):\n",
    "            if matrix[i][j] == \"1\":\n",
    "                curr_size = get_square_size((i, j))\n",
    "                if  curr_size > max_size:\n",
    "                    max_size = curr_size \n",
    "    \n",
    "    return max_size"
   ]
  },
  {
   "cell_type": "code",
   "execution_count": 47,
   "metadata": {},
   "outputs": [
    {
     "name": "stdout",
     "output_type": "stream",
     "text": [
      "4\n",
      "0\n",
      "1\n",
      "1\n"
     ]
    }
   ],
   "source": [
    "print(find_largest_square([[\"1\",\"0\",\"1\",\"0\",\"0\"],[\"1\",\"0\",\"1\",\"1\",\"1\"],[\"1\",\"1\",\"1\",\"1\",\"1\"],[\"1\",\"0\",\"0\",\"1\",\"0\"]]))\n",
    "print(find_largest_square([]))\n",
    "print(find_largest_square([[\"1\",\"0\"],[\"1\",\"0\"]]))\n",
    "print(find_largest_square([[\"1\"]]))"
   ]
  },
  {
   "cell_type": "markdown",
   "metadata": {},
   "source": [
    "##### P3.\n",
    "We have two integer sequences A and B of the same non-zero length.\n",
    "We are allowed to swap elements ```A[i] and B[i]```.  Note that both elements are in the same index position in their respective sequences.\n",
    "At the end of some number of swaps, A and B are both strictly increasing.  (A sequence is strictly increasing if and only if ```A[0] < A[1] < A[2] < ... < A[A.length - 1].)```\n",
    "Given A and B, return the minimum number of swaps to make both sequences strictly increasing.  It is guaranteed that the given input always makes it possible.\n",
    "\n",
    "```\n",
    "Example:\n",
    "Input: A = [1,3,5,4], B = [1,2,3,7]\n",
    "Output: 1\n",
    "Explanation: \n",
    "Swap A[3] and B[3].  Then the sequences are:\n",
    "A = [1, 3, 5, 7] and B = [1, 2, 3, 4]\n",
    "which are both strictly increasing.\n",
    "```\n",
    "Note:\n",
    "A, B are arrays with the same length, and that length will be in the range ```[1, 1000]```.\n",
    "```A[i]```, ```B[i]``` are integer values in the range ```[0, 2000]```."
   ]
  },
  {
   "cell_type": "code",
   "execution_count": 64,
   "metadata": {},
   "outputs": [],
   "source": [
    "class Solution(object):\n",
    "    def minSwap(self, A, B):\n",
    "        \"\"\"\n",
    "        :type A: List[int]\n",
    "        :type B: List[int]\n",
    "        :rtype: int\n",
    "        \"\"\"\n",
    "        size = len(A)\n",
    "        i = 0\n",
    "        num_swaps = 0\n",
    "        print(A, B)\n",
    "        while i < size - 1:\n",
    "            if A[i] >= A[i + 1] or B[i] >= B[i + 1]:\n",
    "                A[i], B[i] = B[i], A[i]\n",
    "                print(A, B, i)\n",
    "                num_swaps += 1\n",
    "                if i > 0:\n",
    "                    i -= 1\n",
    "            else:\n",
    "                i += 1\n",
    "        \n",
    "        return num_swaps"
   ]
  },
  {
   "cell_type": "code",
   "execution_count": 65,
   "metadata": {},
   "outputs": [
    {
     "name": "stdout",
     "output_type": "stream",
     "text": [
      "[2, 3, 2, 5, 6] [0, 1, 4, 4, 5]\n",
      "[2, 1, 2, 5, 6] [0, 3, 4, 4, 5] 1\n",
      "[0, 1, 2, 5, 6] [2, 3, 4, 4, 5] 0\n",
      "[0, 1, 4, 5, 6] [2, 3, 2, 4, 5] 2\n",
      "[0, 3, 4, 5, 6] [2, 1, 2, 4, 5] 1\n",
      "[2, 3, 4, 5, 6] [0, 1, 2, 4, 5] 0\n",
      "5\n"
     ]
    }
   ],
   "source": [
    "print(Solution().minSwap([2,3,2,5,6], [0,1,4,4,5]))"
   ]
  },
  {
   "cell_type": "code",
   "execution_count": null,
   "metadata": {},
   "outputs": [],
   "source": []
  }
 ],
 "metadata": {
  "kernelspec": {
   "display_name": "Python 3",
   "language": "python",
   "name": "python3"
  },
  "language_info": {
   "codemirror_mode": {
    "name": "ipython",
    "version": 3
   },
   "file_extension": ".py",
   "mimetype": "text/x-python",
   "name": "python",
   "nbconvert_exporter": "python",
   "pygments_lexer": "ipython3",
   "version": "3.6.10"
  }
 },
 "nbformat": 4,
 "nbformat_minor": 4
}
