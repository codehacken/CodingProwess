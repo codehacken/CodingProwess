{
 "cells": [
  {
   "cell_type": "code",
   "execution_count": 1,
   "metadata": {
    "collapsed": true
   },
   "outputs": [],
   "source": [
    "from math import floor\n",
    "from heapq import merge"
   ]
  },
  {
   "cell_type": "code",
   "execution_count": 2,
   "metadata": {
    "collapsed": true
   },
   "outputs": [],
   "source": [
    "\"\"\"\n",
    "Merge Sort function.\n",
    "1. Uses list operations and merging from heapq to reduce code.\n",
    "2. list[start: end + 1] returns part of the list from start to end.\n",
    "3. Update a section of list directly by doing list[start: end + 1] = update_list\n",
    "   (same size)\n",
    "\"\"\"\n",
    "def mergesort(a, start, end):\n",
    "    if (start < end):\n",
    "        mergesort(a, start, floor((start+end)/2))\n",
    "        mergesort(a, floor((start+end)/2) + 1, end)\n",
    "        _merge_list(a, start, end)\n",
    "\n",
    "# Merge the lists here.\n",
    "def _merge_list(a, start, end):\n",
    "    mid = floor((start+end)/2) + 1\n",
    "    lst = list(merge(a[start: mid], a[mid: end + 1]))\n",
    "    a[start: end + 1] = lst\n"
   ]
  },
  {
   "cell_type": "code",
   "execution_count": 23,
   "metadata": {
    "collapsed": false
   },
   "outputs": [],
   "source": [
    "\"\"\"\n",
    "Quick Sort algorithm.\n",
    "1. Parition using a pivot and recursively sort the array for sub-lists generated\n",
    "   from the pivot.\n",
    "\"\"\"\n",
    "def quicksort(a, start, end):\n",
    "    if(start < end):\n",
    "        p = _partition(a, start, end)\n",
    "        quicksort(a, start, p)\n",
    "        quicksort(a, p + 1, end)\n",
    "\n",
    "# Partition the list based on the pivot.\n",
    "def _partition(a, start, end):\n",
    "    pivot = a[start]\n",
    "    i = start + 1\n",
    "    j = end\n",
    "    while(True):\n",
    "            while(a[j] > pivot):\n",
    "                j -= 1\n",
    "            while(a[i] < pivot):\n",
    "                i += 1\n",
    "            if(i < j):\n",
    "                # Swapping in python!\n",
    "                a[i], a[j] = a[j], a[i]\n",
    "            else:\n",
    "                # Put the pivot in the proper location.\n",
    "                a[start], a[j] = a[j], a[start]\n",
    "                return j"
   ]
  },
  {
   "cell_type": "code",
   "execution_count": 26,
   "metadata": {
    "collapsed": false
   },
   "outputs": [
    {
     "name": "stdout",
     "output_type": "stream",
     "text": [
      "[1, 2, 3, 4, 5, 6, 8, 9, 10]\n",
      "[1, 2, 3, 4, 5, 6, 8, 9, 10]\n"
     ]
    }
   ],
   "source": [
    "# Testing Sorting functions.\n",
    "a = [2, 1, 4, 6, 5, 3, 10, 9, 8]\n",
    "mergesort(a, 0, len(a) - 1)\n",
    "print(a)\n",
    "quicksort(a, 0, len(a) - 1)\n",
    "print(a)"
   ]
  }
 ],
 "metadata": {
  "kernelspec": {
   "display_name": "Python 3",
   "language": "python",
   "name": "python3"
  },
  "language_info": {
   "codemirror_mode": {
    "name": "ipython",
    "version": 3
   },
   "file_extension": ".py",
   "mimetype": "text/x-python",
   "name": "python",
   "nbconvert_exporter": "python",
   "pygments_lexer": "ipython3",
   "version": "3.4.3"
  }
 },
 "nbformat": 4,
 "nbformat_minor": 0
}
